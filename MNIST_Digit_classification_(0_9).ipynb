{
  "nbformat": 4,
  "nbformat_minor": 0,
  "metadata": {
    "colab": {
      "name": "MNIST - Digit classification (0-9).ipynb",
      "provenance": [],
      "authorship_tag": "ABX9TyMSSIiMpbZ1CoYM+DHIyxAc",
      "include_colab_link": true
    },
    "kernelspec": {
      "name": "python3",
      "display_name": "Python 3"
    },
    "language_info": {
      "name": "python"
    },
    "accelerator": "GPU"
  },
  "cells": [
    {
      "cell_type": "markdown",
      "metadata": {
        "id": "view-in-github",
        "colab_type": "text"
      },
      "source": [
        "<a href=\"https://colab.research.google.com/github/Ruksana-Kauser/Colab_script_MNIST_DL/blob/main/MNIST_Digit_classification_(0_9).ipynb\" target=\"_parent\"><img src=\"https://colab.research.google.com/assets/colab-badge.svg\" alt=\"Open In Colab\"/></a>"
      ]
    },
    {
      "cell_type": "markdown",
      "source": [
        "### 1. Import Necessary Libraries"
      ],
      "metadata": {
        "id": "p7lV-_WwUN0n"
      }
    },
    {
      "cell_type": "code",
      "execution_count": 1,
      "metadata": {
        "id": "vj6N7GeyT6ta"
      },
      "outputs": [],
      "source": [
        "import tensorflow as tf"
      ]
    },
    {
      "cell_type": "code",
      "source": [
        "(x_train, y_train),(x_test, y_test) = tf.keras.datasets.mnist.load_data(path=\"mnist.npz\")"
      ],
      "metadata": {
        "id": "txhWXt5fUjZG"
      },
      "execution_count": 20,
      "outputs": []
    },
    {
      "cell_type": "code",
      "source": [
        "x_train.shape, y_train.shape"
      ],
      "metadata": {
        "colab": {
          "base_uri": "https://localhost:8080/"
        },
        "id": "qxFo6pGzU0H9",
        "outputId": "059946d6-3013-4e17-96db-94a81c2aa428"
      },
      "execution_count": 21,
      "outputs": [
        {
          "output_type": "execute_result",
          "data": {
            "text/plain": [
              "((60000, 28, 28), (60000,))"
            ]
          },
          "metadata": {},
          "execution_count": 21
        }
      ]
    },
    {
      "cell_type": "code",
      "source": [
        "x_test.shape, y_test.shape"
      ],
      "metadata": {
        "colab": {
          "base_uri": "https://localhost:8080/"
        },
        "id": "WJO65WUPXo6V",
        "outputId": "72995031-5909-415b-a37d-f5ea800b0574"
      },
      "execution_count": 23,
      "outputs": [
        {
          "output_type": "execute_result",
          "data": {
            "text/plain": [
              "((10000, 28, 28), (10000,))"
            ]
          },
          "metadata": {},
          "execution_count": 23
        }
      ]
    },
    {
      "cell_type": "code",
      "source": [
        "y_train"
      ],
      "metadata": {
        "colab": {
          "base_uri": "https://localhost:8080/"
        },
        "id": "LlgI1_YdVWr-",
        "outputId": "c385ff80-f6f3-47f0-c34e-446d71587782"
      },
      "execution_count": 24,
      "outputs": [
        {
          "output_type": "execute_result",
          "data": {
            "text/plain": [
              "array([5, 0, 4, ..., 5, 6, 8], dtype=uint8)"
            ]
          },
          "metadata": {},
          "execution_count": 24
        }
      ]
    },
    {
      "cell_type": "code",
      "source": [
        "x_train[0]"
      ],
      "metadata": {
        "colab": {
          "base_uri": "https://localhost:8080/"
        },
        "id": "gbkZlxqhVdll",
        "outputId": "7cb21437-6e13-48a1-e0fa-5c87db5b1227"
      },
      "execution_count": 25,
      "outputs": [
        {
          "output_type": "execute_result",
          "data": {
            "text/plain": [
              "array([[  0,   0,   0,   0,   0,   0,   0,   0,   0,   0,   0,   0,   0,\n",
              "          0,   0,   0,   0,   0,   0,   0,   0,   0,   0,   0,   0,   0,\n",
              "          0,   0],\n",
              "       [  0,   0,   0,   0,   0,   0,   0,   0,   0,   0,   0,   0,   0,\n",
              "          0,   0,   0,   0,   0,   0,   0,   0,   0,   0,   0,   0,   0,\n",
              "          0,   0],\n",
              "       [  0,   0,   0,   0,   0,   0,   0,   0,   0,   0,   0,   0,   0,\n",
              "          0,   0,   0,   0,   0,   0,   0,   0,   0,   0,   0,   0,   0,\n",
              "          0,   0],\n",
              "       [  0,   0,   0,   0,   0,   0,   0,   0,   0,   0,   0,   0,   0,\n",
              "          0,   0,   0,   0,   0,   0,   0,   0,   0,   0,   0,   0,   0,\n",
              "          0,   0],\n",
              "       [  0,   0,   0,   0,   0,   0,   0,   0,   0,   0,   0,   0,   0,\n",
              "          0,   0,   0,   0,   0,   0,   0,   0,   0,   0,   0,   0,   0,\n",
              "          0,   0],\n",
              "       [  0,   0,   0,   0,   0,   0,   0,   0,   0,   0,   0,   0,   3,\n",
              "         18,  18,  18, 126, 136, 175,  26, 166, 255, 247, 127,   0,   0,\n",
              "          0,   0],\n",
              "       [  0,   0,   0,   0,   0,   0,   0,   0,  30,  36,  94, 154, 170,\n",
              "        253, 253, 253, 253, 253, 225, 172, 253, 242, 195,  64,   0,   0,\n",
              "          0,   0],\n",
              "       [  0,   0,   0,   0,   0,   0,   0,  49, 238, 253, 253, 253, 253,\n",
              "        253, 253, 253, 253, 251,  93,  82,  82,  56,  39,   0,   0,   0,\n",
              "          0,   0],\n",
              "       [  0,   0,   0,   0,   0,   0,   0,  18, 219, 253, 253, 253, 253,\n",
              "        253, 198, 182, 247, 241,   0,   0,   0,   0,   0,   0,   0,   0,\n",
              "          0,   0],\n",
              "       [  0,   0,   0,   0,   0,   0,   0,   0,  80, 156, 107, 253, 253,\n",
              "        205,  11,   0,  43, 154,   0,   0,   0,   0,   0,   0,   0,   0,\n",
              "          0,   0],\n",
              "       [  0,   0,   0,   0,   0,   0,   0,   0,   0,  14,   1, 154, 253,\n",
              "         90,   0,   0,   0,   0,   0,   0,   0,   0,   0,   0,   0,   0,\n",
              "          0,   0],\n",
              "       [  0,   0,   0,   0,   0,   0,   0,   0,   0,   0,   0, 139, 253,\n",
              "        190,   2,   0,   0,   0,   0,   0,   0,   0,   0,   0,   0,   0,\n",
              "          0,   0],\n",
              "       [  0,   0,   0,   0,   0,   0,   0,   0,   0,   0,   0,  11, 190,\n",
              "        253,  70,   0,   0,   0,   0,   0,   0,   0,   0,   0,   0,   0,\n",
              "          0,   0],\n",
              "       [  0,   0,   0,   0,   0,   0,   0,   0,   0,   0,   0,   0,  35,\n",
              "        241, 225, 160, 108,   1,   0,   0,   0,   0,   0,   0,   0,   0,\n",
              "          0,   0],\n",
              "       [  0,   0,   0,   0,   0,   0,   0,   0,   0,   0,   0,   0,   0,\n",
              "         81, 240, 253, 253, 119,  25,   0,   0,   0,   0,   0,   0,   0,\n",
              "          0,   0],\n",
              "       [  0,   0,   0,   0,   0,   0,   0,   0,   0,   0,   0,   0,   0,\n",
              "          0,  45, 186, 253, 253, 150,  27,   0,   0,   0,   0,   0,   0,\n",
              "          0,   0],\n",
              "       [  0,   0,   0,   0,   0,   0,   0,   0,   0,   0,   0,   0,   0,\n",
              "          0,   0,  16,  93, 252, 253, 187,   0,   0,   0,   0,   0,   0,\n",
              "          0,   0],\n",
              "       [  0,   0,   0,   0,   0,   0,   0,   0,   0,   0,   0,   0,   0,\n",
              "          0,   0,   0,   0, 249, 253, 249,  64,   0,   0,   0,   0,   0,\n",
              "          0,   0],\n",
              "       [  0,   0,   0,   0,   0,   0,   0,   0,   0,   0,   0,   0,   0,\n",
              "          0,  46, 130, 183, 253, 253, 207,   2,   0,   0,   0,   0,   0,\n",
              "          0,   0],\n",
              "       [  0,   0,   0,   0,   0,   0,   0,   0,   0,   0,   0,   0,  39,\n",
              "        148, 229, 253, 253, 253, 250, 182,   0,   0,   0,   0,   0,   0,\n",
              "          0,   0],\n",
              "       [  0,   0,   0,   0,   0,   0,   0,   0,   0,   0,  24, 114, 221,\n",
              "        253, 253, 253, 253, 201,  78,   0,   0,   0,   0,   0,   0,   0,\n",
              "          0,   0],\n",
              "       [  0,   0,   0,   0,   0,   0,   0,   0,  23,  66, 213, 253, 253,\n",
              "        253, 253, 198,  81,   2,   0,   0,   0,   0,   0,   0,   0,   0,\n",
              "          0,   0],\n",
              "       [  0,   0,   0,   0,   0,   0,  18, 171, 219, 253, 253, 253, 253,\n",
              "        195,  80,   9,   0,   0,   0,   0,   0,   0,   0,   0,   0,   0,\n",
              "          0,   0],\n",
              "       [  0,   0,   0,   0,  55, 172, 226, 253, 253, 253, 253, 244, 133,\n",
              "         11,   0,   0,   0,   0,   0,   0,   0,   0,   0,   0,   0,   0,\n",
              "          0,   0],\n",
              "       [  0,   0,   0,   0, 136, 253, 253, 253, 212, 135, 132,  16,   0,\n",
              "          0,   0,   0,   0,   0,   0,   0,   0,   0,   0,   0,   0,   0,\n",
              "          0,   0],\n",
              "       [  0,   0,   0,   0,   0,   0,   0,   0,   0,   0,   0,   0,   0,\n",
              "          0,   0,   0,   0,   0,   0,   0,   0,   0,   0,   0,   0,   0,\n",
              "          0,   0],\n",
              "       [  0,   0,   0,   0,   0,   0,   0,   0,   0,   0,   0,   0,   0,\n",
              "          0,   0,   0,   0,   0,   0,   0,   0,   0,   0,   0,   0,   0,\n",
              "          0,   0],\n",
              "       [  0,   0,   0,   0,   0,   0,   0,   0,   0,   0,   0,   0,   0,\n",
              "          0,   0,   0,   0,   0,   0,   0,   0,   0,   0,   0,   0,   0,\n",
              "          0,   0]], dtype=uint8)"
            ]
          },
          "metadata": {},
          "execution_count": 25
        }
      ]
    },
    {
      "cell_type": "code",
      "source": [
        "from matplotlib import pyplot as plt\n",
        "plt.imshow(X = x_train[0],cmap='gray')"
      ],
      "metadata": {
        "colab": {
          "base_uri": "https://localhost:8080/",
          "height": 283
        },
        "id": "cBxm5HeLVeww",
        "outputId": "13927ebf-a233-4564-bc03-730d89f87d16"
      },
      "execution_count": 26,
      "outputs": [
        {
          "output_type": "execute_result",
          "data": {
            "text/plain": [
              "<matplotlib.image.AxesImage at 0x7f2b857034d0>"
            ]
          },
          "metadata": {},
          "execution_count": 26
        },
        {
          "output_type": "display_data",
          "data": {
            "image/png": "[encoded data removed]",
            "text/plain": [
              "<Figure size 432x288 with 1 Axes>"
            ]
          },
          "metadata": {
            "needs_background": "light"
          }
        }
      ]
    },
    {
      "cell_type": "code",
      "source": [
        "plt.imshow(X = x_train[1],cmap='gray')"
      ],
      "metadata": {
        "colab": {
          "base_uri": "https://localhost:8080/",
          "height": 283
        },
        "id": "RqgzPsLGV6uT",
        "outputId": "b396bc05-a9df-4b56-b3f5-1dd10b0307f5"
      },
      "execution_count": 27,
      "outputs": [
        {
          "output_type": "execute_result",
          "data": {
            "text/plain": [
              "<matplotlib.image.AxesImage at 0x7f2b856681d0>"
            ]
          },
          "metadata": {},
          "execution_count": 27
        },
        {
          "output_type": "display_data",
          "data": {
            "image/png": "[encoded data removed]",
            "text/plain": [
              "<Figure size 432x288 with 1 Axes>"
            ]
          },
          "metadata": {
            "needs_background": "light"
          }
        }
      ]
    },
    {
      "cell_type": "code",
      "source": [
        "plt.imshow(X = x_train[200],cmap='gray')"
      ],
      "metadata": {
        "colab": {
          "base_uri": "https://localhost:8080/",
          "height": 283
        },
        "id": "Gf1xfqoXWafq",
        "outputId": "0f1a267d-641c-4350-fc7d-d89558c33bd5"
      },
      "execution_count": 28,
      "outputs": [
        {
          "output_type": "execute_result",
          "data": {
            "text/plain": [
              "<matplotlib.image.AxesImage at 0x7f2b855cd710>"
            ]
          },
          "metadata": {},
          "execution_count": 28
        },
        {
          "output_type": "display_data",
          "data": {
            "image/png": "[encoded data removed]",
            "text/plain": [
              "<Figure size 432x288 with 1 Axes>"
            ]
          },
          "metadata": {
            "needs_background": "light"
          }
        }
      ]
    },
    {
      "cell_type": "code",
      "source": [
        "  y_train[200]"
      ],
      "metadata": {
        "colab": {
          "base_uri": "https://localhost:8080/"
        },
        "id": "jQ5brPv-WcOJ",
        "outputId": "945da2dc-112d-44a7-babb-26637ac8d1c7"
      },
      "execution_count": 29,
      "outputs": [
        {
          "output_type": "execute_result",
          "data": {
            "text/plain": [
              "1"
            ]
          },
          "metadata": {},
          "execution_count": 29
        }
      ]
    },
    {
      "cell_type": "code",
      "source": [
        ""
      ],
      "metadata": {
        "id": "f4TNfmPRWgff"
      },
      "execution_count": 29,
      "outputs": []
    },
    {
      "cell_type": "markdown",
      "source": [
        "### 4. Data Preparation"
      ],
      "metadata": {
        "id": "7h8TN84RXPAI"
      }
    },
    {
      "cell_type": "code",
      "source": [
        "x_train.std() "
      ],
      "metadata": {
        "colab": {
          "base_uri": "https://localhost:8080/"
        },
        "id": "ihmltCuaXS09",
        "outputId": "81077091-b920-4564-f63a-450eb2fc019b"
      },
      "execution_count": 30,
      "outputs": [
        {
          "output_type": "execute_result",
          "data": {
            "text/plain": [
              "78.56748998339798"
            ]
          },
          "metadata": {},
          "execution_count": 30
        }
      ]
    },
    {
      "cell_type": "code",
      "source": [
        "x_test.std()"
      ],
      "metadata": {
        "colab": {
          "base_uri": "https://localhost:8080/"
        },
        "id": "Caiv1J8lXW_u",
        "outputId": "8953fbd7-b313-4b8e-d4b8-90a36afd37a2"
      },
      "execution_count": 31,
      "outputs": [
        {
          "output_type": "execute_result",
          "data": {
            "text/plain": [
              "79.17246322228644"
            ]
          },
          "metadata": {},
          "execution_count": 31
        }
      ]
    },
    {
      "cell_type": "code",
      "source": [
        "x_train[500]"
      ],
      "metadata": {
        "colab": {
          "base_uri": "https://localhost:8080/"
        },
        "id": "rVKWeO_gXjoL",
        "outputId": "4afa8f05-16c0-401a-d40d-7f38a0a4744e"
      },
      "execution_count": 32,
      "outputs": [
        {
          "output_type": "execute_result",
          "data": {
            "text/plain": [
              "array([[  0,   0,   0,   0,   0,   0,   0,   0,   0,   0,   0,   0,   0,\n",
              "          0,   0,   0,   0,   0,   0,   0,   0,   0,   0,   0,   0,   0,\n",
              "          0,   0],\n",
              "       [  0,   0,   0,   0,   0,   0,   0,   0,   0,   0,   0,   0,   0,\n",
              "          0,   0,   0,   0,   0,   0,   0,   0,   0,   0,   0,   0,   0,\n",
              "          0,   0],\n",
              "       [  0,   0,   0,   0,   0,   0,   0,   0,   0,   0,   0,   0,   0,\n",
              "          0,   0,   0,   0,   0,   0,   0,   0,   0,   0,   0,   0,   0,\n",
              "          0,   0],\n",
              "       [  0,   0,   0,   0,   0,   0,   0,   0,   0,   0,   0,   0,   0,\n",
              "          0,   0,   0,   0,   0,   0,   0,   0,   0,   0,   0,   0,   0,\n",
              "          0,   0],\n",
              "       [  0,   0,   0,   0,   0,   0,   0,   0,   0,   0,   0,   0,   0,\n",
              "          0,   0,   0,   0,   0,   0,   0,   0,   0,   0,   0,   0,   0,\n",
              "          0,   0],\n",
              "       [  0,   0,   0,   0,   0,   0,   0,   0,   0,   0,   0,   0,   0,\n",
              "          0,   0,   0,   0,   0,   0,   0,   0,   0,   0,   0,   0,   0,\n",
              "          0,   0],\n",
              "       [  0,   0,   0,   0,   0,  38, 191, 138,  24,  24, 108, 138,  34,\n",
              "          0,   0,   0,   0,   0,   0,   0,   0,   0,   0,   0,   0,   0,\n",
              "          0,   0],\n",
              "       [  0,   0,   0,   0,   0,  70, 252, 252, 253, 252, 252, 252, 252,\n",
              "        162,  88,  13,   0,   0,   0,   0,   0,   0,   0,   0,   0,   0,\n",
              "          0,   0],\n",
              "       [  0,   0,   0,   0,   0,  51, 240, 252, 253, 240, 183, 183, 246,\n",
              "        253, 252, 202, 142,   7,   0,   0,   0,   0,   0,   0,   0,   0,\n",
              "          0,   0],\n",
              "       [  0,   0,   0,   0,   0,   0,  37,  98, 211, 206,   0,   0,  42,\n",
              "        109, 177, 252, 252, 211,  43,   0,   0,   0,   0,   0,   0,   0,\n",
              "          0,   0],\n",
              "       [  0,   0,   0,   0,   0,   0,   0,   0,  13,  18,   0,   0,   0,\n",
              "          0,   5,  54, 179, 252, 220,   0,   0,   0,   0,   0,   0,   0,\n",
              "          0,   0],\n",
              "       [  0,   0,   0,   0,   0,   0,   0,   0,   0,   0,   0,   0,   0,\n",
              "          0,   0,   0,  43, 241, 255,  92,   0,   0,   0,   0,   0,   0,\n",
              "          0,   0],\n",
              "       [  0,   0,   0,   0,   0,   0,   0,   0,   0,   0,   0,   0,   0,\n",
              "          0,   0,   0,   0, 230, 253,  92,   0,   0,   0,   0,   0,   0,\n",
              "          0,   0],\n",
              "       [  0,   0,   0,   0,   0,   0,   0,   0,   0,   0,   0,   0,   0,\n",
              "          0,   0,   0,  68, 246, 247,  67,   0,   0,   0,   0,   0,   0,\n",
              "          0,   0],\n",
              "       [  0,   0,   0,   0,   0,   0,   0,   0,   0,   0,   0,   0,   0,\n",
              "          0,   0,   0, 134, 252,  94,   0,   0,   0,   0,   0,   0,   0,\n",
              "          0,   0],\n",
              "       [  0,   0,   0,   0,   0,   0,   0,   0,   0,   0,   0,   0,   0,\n",
              "          0,   0, 116, 248, 200,   0,   0,   0,   0,   0,   0,   0,   0,\n",
              "          0,   0],\n",
              "       [  0,   0,   0,   0,   0,   0,   0,   0,   0,   0,   0,   0,   0,\n",
              "         13,  97, 222, 192,  11,   0,   0,   0,   0,   0,   0,   0,   0,\n",
              "          0,   0],\n",
              "       [  0,   0,   0,   0,   0,   0,   0,   0,   0,   0,   0,  38,  99,\n",
              "        208, 227, 174,  17,   0,   0,   0,   0,   0,   0,   0,   0,   0,\n",
              "          0,   0],\n",
              "       [  0,   0,   0,   0,   0,   0,   0,   0,   0,   0,   0, 207, 252,\n",
              "        237,  88,   0,   0,   0,   0,   0,   0,   0,   0,   0,   0,   0,\n",
              "          0,   0],\n",
              "       [  0,   0,   0,   0,   0,   0,   0,   0,   0,   0,   0,  80, 202,\n",
              "        253, 244, 207,  80,   0,   0,   0,   0,   0,   0,   0,   0,   0,\n",
              "          0,   0],\n",
              "       [  0,   0,   0,   0,   0,   0,   0,   0,   0,   0,   0,   0,  11,\n",
              "         96, 252, 252, 244,  73,   0,   0,   0,   0,   0,   0,   0,   0,\n",
              "          0,   0],\n",
              "       [  0,   0,   0,   0,   0,   0,   0,   0,   0,   0,   0,   0,   0,\n",
              "          0,  22, 199, 249, 253, 128,   9,   0,   0,   0,   0,   0,   0,\n",
              "          0,   0],\n",
              "       [  0,   0,   0,   0,   0,   0,   0,   0,   0,   0,   0,   0,   0,\n",
              "          0,   0,   0, 118, 248, 253, 113,   0,   0,   0,   0,   0,   0,\n",
              "          0,   0],\n",
              "       [  0,   0,   0,   0,   0,   0,   0,   0,   0,   0,   0,   0,   0,\n",
              "          0,   0,   0,   0, 115, 253, 240,  50,   0,   0,   0,   0,   0,\n",
              "          0,   0],\n",
              "       [  0,   0,   0,   0,   0,   0,   0,   0,   0,   0,   0,   0,   0,\n",
              "          0,   0,   0,   0,   0, 253, 252,  69,   0,   0,   0,   0,   0,\n",
              "          0,   0],\n",
              "       [  0,   0,   0,   0,   0,   0,   0,   0,   0,   0,   0,   0,   0,\n",
              "          0,   0,   0,   0,   0, 253, 231,  37,   0,   0,   0,   0,   0,\n",
              "          0,   0],\n",
              "       [  0,   0,   0,   0,   0,   0,   0,   0,   0,   0,   0,   0,   0,\n",
              "          0,   0,   0,   0,   0,   0,   0,   0,   0,   0,   0,   0,   0,\n",
              "          0,   0],\n",
              "       [  0,   0,   0,   0,   0,   0,   0,   0,   0,   0,   0,   0,   0,\n",
              "          0,   0,   0,   0,   0,   0,   0,   0,   0,   0,   0,   0,   0,\n",
              "          0,   0]], dtype=uint8)"
            ]
          },
          "metadata": {},
          "execution_count": 32
        }
      ]
    },
    {
      "cell_type": "code",
      "source": [
        "x_train=x_train/255\n",
        "x_test=x_test/255"
      ],
      "metadata": {
        "id": "DrGPGEA_X19X"
      },
      "execution_count": 33,
      "outputs": []
    },
    {
      "cell_type": "code",
      "source": [
        "x_train.std()"
      ],
      "metadata": {
        "colab": {
          "base_uri": "https://localhost:8080/"
        },
        "id": "9YnyKgzOX9yY",
        "outputId": "c5f00bf8-48b1-4b88-f575-c2153e590f19"
      },
      "execution_count": 35,
      "outputs": [
        {
          "output_type": "execute_result",
          "data": {
            "text/plain": [
              "0.3081078038564622"
            ]
          },
          "metadata": {},
          "execution_count": 35
        }
      ]
    },
    {
      "cell_type": "code",
      "source": [
        "x_test.std()"
      ],
      "metadata": {
        "colab": {
          "base_uri": "https://localhost:8080/"
        },
        "id": "6fien6T0YIxE",
        "outputId": "43852e09-b0c1-46b6-c27d-2b438d612cc3"
      },
      "execution_count": 37,
      "outputs": [
        {
          "output_type": "execute_result",
          "data": {
            "text/plain": [
              "0.3104802479305348"
            ]
          },
          "metadata": {},
          "execution_count": 37
        }
      ]
    },
    {
      "cell_type": "markdown",
      "source": [
        "### 5. Model Building"
      ],
      "metadata": {
        "id": "7YaAft3iYQcv"
      }
    },
    {
      "cell_type": "code",
      "source": [
        "from tensorflow import keras"
      ],
      "metadata": {
        "id": "xqCCSHeLYM_o"
      },
      "execution_count": 38,
      "outputs": []
    },
    {
      "cell_type": "code",
      "source": [
        "from tensorflow.keras.models import Sequential\n",
        "from tensorflow.keras.layers import Dense,Flatten"
      ],
      "metadata": {
        "id": "nTM1jBVTYfoU"
      },
      "execution_count": 40,
      "outputs": []
    },
    {
      "cell_type": "markdown",
      "source": [
        "### 5.1 Build the Architecture"
      ],
      "metadata": {
        "id": "tFuZaIj8ZBbe"
      }
    },
    {
      "cell_type": "code",
      "source": [
        "model = Sequential()\n",
        "model.add(Flatten(input_shape=(28,28)))\n",
        "model.add(Dense(units=50,activation='relu')) #H1\n",
        "model.add(Dense(units=10,activation='softmax')) #Output layer\n",
        "model.summary()"
      ],
      "metadata": {
        "colab": {
          "base_uri": "https://localhost:8080/"
        },
        "id": "bJTxBAkKY4bQ",
        "outputId": "d7d1f57a-554d-450e-aa89-8b2c55639a72"
      },
      "execution_count": 44,
      "outputs": [
        {
          "output_type": "stream",
          "name": "stdout",
          "text": [
            "Model: \"sequential_3\"\n",
            "_________________________________________________________________\n",
            " Layer (type)                Output Shape              Param #   \n",
            "=================================================================\n",
            " flatten_1 (Flatten)         (None, 784)               0         \n",
            "                                                                 \n",
            " dense (Dense)               (None, 50)                39250     \n",
            "                                                                 \n",
            " dense_1 (Dense)             (None, 10)                510       \n",
            "                                                                 \n",
            "=================================================================\n",
            "Total params: 39,760\n",
            "Trainable params: 39,760\n",
            "Non-trainable params: 0\n",
            "_________________________________________________________________\n"
          ]
        }
      ]
    },
    {
      "cell_type": "markdown",
      "source": [
        "### 5.2 Compile your architecture"
      ],
      "metadata": {
        "id": "6ZeiT2FCbX4V"
      }
    },
    {
      "cell_type": "code",
      "source": [
        "model.compile(optimizer='rmsprop', loss='sparse_categorical_crossentropy',metrics='accuracy')"
      ],
      "metadata": {
        "id": "tQM41whhZKUY"
      },
      "execution_count": 47,
      "outputs": []
    },
    {
      "cell_type": "markdown",
      "source": [
        "### 6. Model Training"
      ],
      "metadata": {
        "id": "yWuZYfvYcc3k"
      }
    },
    {
      "cell_type": "code",
      "source": [
        "model.fit(x=x_train, y=y_train, batch_size=100, epochs=50, validation_split=0.20)"
      ],
      "metadata": {
        "colab": {
          "base_uri": "https://localhost:8080/"
        },
        "id": "etvq0k4KcWYm",
        "outputId": "8583bb02-4238-443f-d345-88c74978c9d8"
      },
      "execution_count": 48,
      "outputs": [
        {
          "output_type": "stream",
          "name": "stdout",
          "text": [
            "Epoch 1/50\n",
            "480/480 [==============================] - 4s 4ms/step - loss: 0.4256 - accuracy: 0.8871 - val_loss: 0.2420 - val_accuracy: 0.9305\n",
            "Epoch 2/50\n",
            "480/480 [==============================] - 2s 4ms/step - loss: 0.2223 - accuracy: 0.9369 - val_loss: 0.1891 - val_accuracy: 0.9477\n",
            "Epoch 3/50\n",
            "480/480 [==============================] - 2s 4ms/step - loss: 0.1732 - accuracy: 0.9495 - val_loss: 0.1668 - val_accuracy: 0.9534\n",
            "Epoch 4/50\n",
            "480/480 [==============================] - 2s 4ms/step - loss: 0.1441 - accuracy: 0.9581 - val_loss: 0.1505 - val_accuracy: 0.9573\n",
            "Epoch 5/50\n",
            "480/480 [==============================] - 2s 4ms/step - loss: 0.1237 - accuracy: 0.9640 - val_loss: 0.1340 - val_accuracy: 0.9626\n",
            "Epoch 6/50\n",
            "480/480 [==============================] - 2s 4ms/step - loss: 0.1085 - accuracy: 0.9684 - val_loss: 0.1282 - val_accuracy: 0.9644\n",
            "Epoch 7/50\n",
            "480/480 [==============================] - 2s 4ms/step - loss: 0.0971 - accuracy: 0.9715 - val_loss: 0.1203 - val_accuracy: 0.9662\n",
            "Epoch 8/50\n",
            "480/480 [==============================] - 2s 4ms/step - loss: 0.0871 - accuracy: 0.9744 - val_loss: 0.1187 - val_accuracy: 0.9667\n",
            "Epoch 9/50\n",
            "480/480 [==============================] - 2s 4ms/step - loss: 0.0803 - accuracy: 0.9765 - val_loss: 0.1171 - val_accuracy: 0.9662\n",
            "Epoch 10/50\n",
            "480/480 [==============================] - 2s 4ms/step - loss: 0.0737 - accuracy: 0.9790 - val_loss: 0.1145 - val_accuracy: 0.9681\n",
            "Epoch 11/50\n",
            "480/480 [==============================] - 2s 4ms/step - loss: 0.0681 - accuracy: 0.9804 - val_loss: 0.1094 - val_accuracy: 0.9697\n",
            "Epoch 12/50\n",
            "480/480 [==============================] - 2s 4ms/step - loss: 0.0634 - accuracy: 0.9819 - val_loss: 0.1099 - val_accuracy: 0.9694\n",
            "Epoch 13/50\n",
            "480/480 [==============================] - 2s 4ms/step - loss: 0.0589 - accuracy: 0.9834 - val_loss: 0.1141 - val_accuracy: 0.9696\n",
            "Epoch 14/50\n",
            "480/480 [==============================] - 2s 4ms/step - loss: 0.0548 - accuracy: 0.9848 - val_loss: 0.1149 - val_accuracy: 0.9689\n",
            "Epoch 15/50\n",
            "480/480 [==============================] - 2s 4ms/step - loss: 0.0514 - accuracy: 0.9855 - val_loss: 0.1144 - val_accuracy: 0.9688\n",
            "Epoch 16/50\n",
            "480/480 [==============================] - 2s 4ms/step - loss: 0.0481 - accuracy: 0.9868 - val_loss: 0.1199 - val_accuracy: 0.9675\n",
            "Epoch 17/50\n",
            "480/480 [==============================] - 2s 4ms/step - loss: 0.0448 - accuracy: 0.9879 - val_loss: 0.1147 - val_accuracy: 0.9699\n",
            "Epoch 18/50\n",
            "480/480 [==============================] - 2s 4ms/step - loss: 0.0429 - accuracy: 0.9879 - val_loss: 0.1159 - val_accuracy: 0.9703\n",
            "Epoch 19/50\n",
            "480/480 [==============================] - 2s 4ms/step - loss: 0.0399 - accuracy: 0.9890 - val_loss: 0.1181 - val_accuracy: 0.9701\n",
            "Epoch 20/50\n",
            "480/480 [==============================] - 2s 4ms/step - loss: 0.0381 - accuracy: 0.9895 - val_loss: 0.1197 - val_accuracy: 0.9697\n",
            "Epoch 21/50\n",
            "480/480 [==============================] - 2s 4ms/step - loss: 0.0351 - accuracy: 0.9905 - val_loss: 0.1210 - val_accuracy: 0.9699\n",
            "Epoch 22/50\n",
            "480/480 [==============================] - 2s 4ms/step - loss: 0.0336 - accuracy: 0.9907 - val_loss: 0.1182 - val_accuracy: 0.9692\n",
            "Epoch 23/50\n",
            "480/480 [==============================] - 2s 4ms/step - loss: 0.0317 - accuracy: 0.9914 - val_loss: 0.1276 - val_accuracy: 0.9692\n",
            "Epoch 24/50\n",
            "480/480 [==============================] - 2s 4ms/step - loss: 0.0294 - accuracy: 0.9921 - val_loss: 0.1263 - val_accuracy: 0.9691\n",
            "Epoch 25/50\n",
            "480/480 [==============================] - 2s 4ms/step - loss: 0.0280 - accuracy: 0.9927 - val_loss: 0.1226 - val_accuracy: 0.9711\n",
            "Epoch 26/50\n",
            "480/480 [==============================] - 2s 4ms/step - loss: 0.0265 - accuracy: 0.9933 - val_loss: 0.1272 - val_accuracy: 0.9704\n",
            "Epoch 27/50\n",
            "480/480 [==============================] - 2s 4ms/step - loss: 0.0255 - accuracy: 0.9933 - val_loss: 0.1312 - val_accuracy: 0.9688\n",
            "Epoch 28/50\n",
            "480/480 [==============================] - 2s 4ms/step - loss: 0.0237 - accuracy: 0.9939 - val_loss: 0.1317 - val_accuracy: 0.9701\n",
            "Epoch 29/50\n",
            "480/480 [==============================] - 2s 4ms/step - loss: 0.0220 - accuracy: 0.9946 - val_loss: 0.1330 - val_accuracy: 0.9699\n",
            "Epoch 30/50\n",
            "480/480 [==============================] - 2s 4ms/step - loss: 0.0214 - accuracy: 0.9948 - val_loss: 0.1395 - val_accuracy: 0.9680\n",
            "Epoch 31/50\n",
            "480/480 [==============================] - 2s 4ms/step - loss: 0.0201 - accuracy: 0.9952 - val_loss: 0.1419 - val_accuracy: 0.9684\n",
            "Epoch 32/50\n",
            "480/480 [==============================] - 2s 4ms/step - loss: 0.0188 - accuracy: 0.9954 - val_loss: 0.1382 - val_accuracy: 0.9685\n",
            "Epoch 33/50\n",
            "480/480 [==============================] - 2s 4ms/step - loss: 0.0177 - accuracy: 0.9958 - val_loss: 0.1455 - val_accuracy: 0.9684\n",
            "Epoch 34/50\n",
            "480/480 [==============================] - 2s 4ms/step - loss: 0.0168 - accuracy: 0.9958 - val_loss: 0.1436 - val_accuracy: 0.9702\n",
            "Epoch 35/50\n",
            "480/480 [==============================] - 2s 4ms/step - loss: 0.0162 - accuracy: 0.9961 - val_loss: 0.1410 - val_accuracy: 0.9707\n",
            "Epoch 36/50\n",
            "480/480 [==============================] - 2s 4ms/step - loss: 0.0153 - accuracy: 0.9966 - val_loss: 0.1483 - val_accuracy: 0.9684\n",
            "Epoch 37/50\n",
            "480/480 [==============================] - 2s 4ms/step - loss: 0.0141 - accuracy: 0.9966 - val_loss: 0.1482 - val_accuracy: 0.9688\n",
            "Epoch 38/50\n",
            "480/480 [==============================] - 2s 4ms/step - loss: 0.0136 - accuracy: 0.9968 - val_loss: 0.1501 - val_accuracy: 0.9702\n",
            "Epoch 39/50\n",
            "480/480 [==============================] - 2s 4ms/step - loss: 0.0129 - accuracy: 0.9971 - val_loss: 0.1574 - val_accuracy: 0.9682\n",
            "Epoch 40/50\n",
            "480/480 [==============================] - 2s 4ms/step - loss: 0.0119 - accuracy: 0.9972 - val_loss: 0.1544 - val_accuracy: 0.9684\n",
            "Epoch 41/50\n",
            "480/480 [==============================] - 2s 4ms/step - loss: 0.0111 - accuracy: 0.9975 - val_loss: 0.1590 - val_accuracy: 0.9676\n",
            "Epoch 42/50\n",
            "480/480 [==============================] - 2s 4ms/step - loss: 0.0106 - accuracy: 0.9974 - val_loss: 0.1576 - val_accuracy: 0.9690\n",
            "Epoch 43/50\n",
            "480/480 [==============================] - 2s 4ms/step - loss: 0.0100 - accuracy: 0.9978 - val_loss: 0.1632 - val_accuracy: 0.9685\n",
            "Epoch 44/50\n",
            "480/480 [==============================] - 2s 4ms/step - loss: 0.0094 - accuracy: 0.9980 - val_loss: 0.1600 - val_accuracy: 0.9678\n",
            "Epoch 45/50\n",
            "480/480 [==============================] - 2s 4ms/step - loss: 0.0087 - accuracy: 0.9982 - val_loss: 0.1659 - val_accuracy: 0.9687\n",
            "Epoch 46/50\n",
            "480/480 [==============================] - 2s 4ms/step - loss: 0.0083 - accuracy: 0.9982 - val_loss: 0.1664 - val_accuracy: 0.9678\n",
            "Epoch 47/50\n",
            "480/480 [==============================] - 2s 4ms/step - loss: 0.0081 - accuracy: 0.9980 - val_loss: 0.1665 - val_accuracy: 0.9690\n",
            "Epoch 48/50\n",
            "480/480 [==============================] - 2s 4ms/step - loss: 0.0072 - accuracy: 0.9984 - val_loss: 0.1700 - val_accuracy: 0.9684\n",
            "Epoch 49/50\n",
            "480/480 [==============================] - 2s 4ms/step - loss: 0.0071 - accuracy: 0.9986 - val_loss: 0.1710 - val_accuracy: 0.9688\n",
            "Epoch 50/50\n",
            "480/480 [==============================] - 2s 4ms/step - loss: 0.0065 - accuracy: 0.9986 - val_loss: 0.1785 - val_accuracy: 0.9672\n"
          ]
        },
        {
          "output_type": "execute_result",
          "data": {
            "text/plain": [
              "<keras.callbacks.History at 0x7f2b8031b2d0>"
            ]
          },
          "metadata": {},
          "execution_count": 48
        }
      ]
    },
    {
      "cell_type": "markdown",
      "source": [
        "### 7. Model Testing"
      ],
      "metadata": {
        "id": "uqtWm7uqfGbe"
      }
    },
    {
      "cell_type": "code",
      "source": [
        "model.evaluate(x_test,y_test,)"
      ],
      "metadata": {
        "colab": {
          "base_uri": "https://localhost:8080/"
        },
        "id": "xTiyjV3fcbJD",
        "outputId": "d0ed0e31-6e2e-4bb4-efb9-1170b60c44ff"
      },
      "execution_count": 49,
      "outputs": [
        {
          "output_type": "stream",
          "name": "stdout",
          "text": [
            "313/313 [==============================] - 1s 4ms/step - loss: 0.1582 - accuracy: 0.9688\n"
          ]
        },
        {
          "output_type": "execute_result",
          "data": {
            "text/plain": [
              "[0.15816810727119446, 0.9688000082969666]"
            ]
          },
          "metadata": {},
          "execution_count": 49
        }
      ]
    },
    {
      "cell_type": "code",
      "source": [
        "plt.imshow(x_test[100])"
      ],
      "metadata": {
        "colab": {
          "base_uri": "https://localhost:8080/",
          "height": 283
        },
        "id": "NWy4KZetffmz",
        "outputId": "86f2692f-bcac-4533-aed7-65ded9cce499"
      },
      "execution_count": 51,
      "outputs": [
        {
          "output_type": "execute_result",
          "data": {
            "text/plain": [
              "<matplotlib.image.AxesImage at 0x7f2b0cb64310>"
            ]
          },
          "metadata": {},
          "execution_count": 51
        },
        {
          "output_type": "display_data",
          "data": {
            "image/png": "[encoded data removed]",
            "text/plain": [
              "<Figure size 432x288 with 1 Axes>"
            ]
          },
          "metadata": {
            "needs_background": "light"
          }
        }
      ]
    },
    {
      "cell_type": "code",
      "source": [
        "import numpy as np\n",
        "prediction = model.predict(x_test)\n",
        "prediction\n",
        "print(np.argmax(prediction[100]))"
      ],
      "metadata": {
        "colab": {
          "base_uri": "https://localhost:8080/"
        },
        "id": "EL2TDMbGfBtX",
        "outputId": "81f875f5-d279-4ab2-b85c-67bece7e790c"
      },
      "execution_count": 52,
      "outputs": [
        {
          "output_type": "stream",
          "name": "stdout",
          "text": [
            "6\n"
          ]
        }
      ]
    },
    {
      "cell_type": "code",
      "source": [
        ""
      ],
      "metadata": {
        "id": "c7rKBsQkfvlm"
      },
      "execution_count": null,
      "outputs": []
    }
  ]
}